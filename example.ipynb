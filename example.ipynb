{
 "cells": [
  {
   "cell_type": "code",
   "execution_count": 1,
   "metadata": {},
   "outputs": [
    {
     "name": "stderr",
     "output_type": "stream",
     "text": [
      "[nltk_data] Downloading package punkt to /Users/jimmy/nltk_data...\n",
      "[nltk_data]   Package punkt is already up-to-date!\n",
      "Generating atomic facts: 1it [00:02,  2.16s/it]\n",
      "Processing topics: 1it [00:09,  9.47s/it]\n",
      "Generating atomic facts: 1it [00:01,  1.90s/it]\n",
      "Processing topics: 1it [00:11, 11.10s/it]\n"
     ]
    }
   ],
   "source": [
    "from factscore import FActScore\n",
    "\n",
    "predictions = [\"The authors propose Geometric Graph Representation Learning (G2R), which learns node representations in an unsupervised manner by maximizing rate reduction. Under this approach, nodes in different groups are mapped into compact, diversely distributed subspaces.\"]\n",
    "targets = [\"The authors introduce a general solution named ALT, a method that works alongside most existing GNNs to handle graphs with either low or high homophily effectively. ALT decomposes a graph into two components, extracts complementary signals, and merges them adaptively for node classification.\"]\n",
    "\n",
    "fs = FActScore()\n",
    "scores = fs.compute(predictions, targets)"
   ]
  },
  {
   "cell_type": "code",
   "execution_count": 2,
   "metadata": {},
   "outputs": [
    {
     "data": {
      "text/plain": [
       "{'precision': 0.2222222222222222, 'recall': 0.1, 'f1': 0.13793103448275865}"
      ]
     },
     "execution_count": 2,
     "metadata": {},
     "output_type": "execute_result"
    }
   ],
   "source": [
    "scores"
   ]
  }
 ],
 "metadata": {
  "kernelspec": {
   "display_name": "llm",
   "language": "python",
   "name": "python3"
  },
  "language_info": {
   "codemirror_mode": {
    "name": "ipython",
    "version": 3
   },
   "file_extension": ".py",
   "mimetype": "text/x-python",
   "name": "python",
   "nbconvert_exporter": "python",
   "pygments_lexer": "ipython3",
   "version": "3.8.17"
  }
 },
 "nbformat": 4,
 "nbformat_minor": 2
}
